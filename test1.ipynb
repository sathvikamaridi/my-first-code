{
 "cells": [
  {
   "cell_type": "code",
   "execution_count": 16,
   "metadata": {},
   "outputs": [
    {
     "name": "stdout",
     "output_type": "stream",
     "text": [
      "The sum of 5000 and 3 is: 5003\n"
     ]
    }
   ],
   "source": [
    "num1 = int(input(\"Enter first number: \"))\n",
    "num2 = int(input(\"Enter second number: \"))\n",
    "\n",
    "result = (num1+num2)\n",
    "print(\"The sum of\", num1, \"and\", num2, \"is:\", result)"
   ]
  },
  {
   "cell_type": "code",
   "execution_count": null,
   "metadata": {},
   "outputs": [
    {
     "name": "stdout",
     "output_type": "stream",
     "text": [
      "The maximum of 3 and 4 is: 4\n"
     ]
    }
   ],
   "source": [
    "num1 = int(input(\"Enter the first number: \"))\n",
    "num2 = int(input(\"Enter the second number: \"))\n",
    "\n",
    "maximum = max(num1, num2)\n",
    "print(\"The maximum of\", num1, \"and\", num2, \"is:\", maximum)"
   ]
  },
  {
   "cell_type": "code",
   "execution_count": null,
   "metadata": {},
   "outputs": [
    {
     "name": "stdout",
     "output_type": "stream",
     "text": [
      "The factorial of 4 is: 24\n"
     ]
    }
   ],
   "source": [
    "num = int(input(\"Enter a number: \"))\n",
    "factorial = 1\n",
    "if num < 0:\n",
    "    print(\"Factorial is not defined for negative numbers.\")\n",
    "elif num == 0:\n",
    "    print(\"The factorial of 0 is 1\")\n",
    "else:\n",
    "    for i in range(1, num + 1):\n",
    "        factorial *= i\n",
    "\n",
    "    print(\"The factorial of\", num, \"is:\", factorial)"
   ]
  },
  {
   "cell_type": "code",
   "execution_count": null,
   "metadata": {},
   "outputs": [
    {
     "name": "stdout",
     "output_type": "stream",
     "text": [
      "The simple interest for principal amount  5000.0 at 0.3 % interest rate for 2 years is  30.0\n"
     ]
    }
   ],
   "source": [
    "p = float(input(\"Enter the principal amount: \"))\n",
    "r = float(input(\"Enter the interest rate: \"))\n",
    "t = int(input(\"Enter the time period (in years): \"))\n",
    "\n",
    "interest = (p * r * t) / 100\n",
    "\n",
    "print(\"The simple interest for principal amount \", p, \"at\", r, \"% interest rate for\", t, \"years is \", interest)"
   ]
  },
  {
   "cell_type": "code",
   "execution_count": null,
   "metadata": {},
   "outputs": [
    {
     "name": "stdout",
     "output_type": "stream",
     "text": [
      "The compound interest for principal amount  5000.0 at 3.0 % interest rate for 2 years is  304.4999999999998\n"
     ]
    }
   ],
   "source": [
    "#python program to find compound interest\n",
    "p = float(input(\"Enter the principal amount: \"))\n",
    "r = float(input(\"Enter the interest rate (in percentage): \"))\n",
    "t = int(input(\"Enter the time period (in years): \"))\n",
    "\n",
    "rate = r / 100\n",
    "\n",
    "compound_interest = p * ((1 + rate) ** t - 1)\n",
    "\n",
    "print(\"The compound interest for principal amount \", p , \"at\", rate*100, \"% interest rate for\", t , \"years is \", compound_interest)"
   ]
  },
  {
   "cell_type": "code",
   "execution_count": 19,
   "metadata": {},
   "outputs": [
    {
     "name": "stdout",
     "output_type": "stream",
     "text": [
      "32 IS Not Armstrong number\n"
     ]
    }
   ],
   "source": [
    "#Program for armstrong number\n",
    "no=int(input(\"Enter number: \"))\n",
    "arm=0\n",
    "num=no\n",
    "while num!=0:\n",
    "    i=num%10\n",
    "    arm+=i**3\n",
    "    num=num//10\n",
    "if no==arm:\n",
    "    print(no, \"IS AN Armstrong number\")\n",
    "else:\n",
    "    print(no , \"IS Not Armstrong number\")"
   ]
  },
  {
   "cell_type": "code",
   "execution_count": 21,
   "metadata": {},
   "outputs": [
    {
     "name": "stdout",
     "output_type": "stream",
     "text": [
      "Area of the circle is : 113.09733552923255\n"
     ]
    }
   ],
   "source": [
    "#python program to find area of circle\n",
    "from math import *\n",
    "r = float(input(\"Enter the radius of circle: \"))\n",
    "area = (pi) * (r**2)\n",
    "print(\"Area of the circle is :\" ,area)"
   ]
  },
  {
   "cell_type": "code",
   "execution_count": 22,
   "metadata": {},
   "outputs": [
    {
     "name": "stdout",
     "output_type": "stream",
     "text": [
      "PRIME NUMBERS BETWEEN 3 AND 42 ARE: \n",
      "3 5 7 11 13 17 19 23 29 31 37 41 "
     ]
    }
   ],
   "source": [
    "#python code to print all prime numbers within interval\n",
    "def is_prime(num):\n",
    "    if num < 2:\n",
    "        return False\n",
    "    for i in range(2, int(num**0.5) + 1):\n",
    "        if num % i == 0:\n",
    "            return False\n",
    "    return True\n",
    "\n",
    "def print_primes_in_interval(a, b):\n",
    "    print(\"PRIME NUMBERS BETWEEN\", a,\"AND\", b,\"ARE: \")\n",
    "    for num in range(a, b + 1):\n",
    "        if is_prime(num):\n",
    "            print(num, end=' ')\n",
    "\n",
    "start_interval = int(input(\"Enter the start interval: \"))\n",
    "end_interval = int(input(\"Enter the stop interval: \"))\n",
    "print_primes_in_interval(start_interval, end_interval)"
   ]
  },
  {
   "cell_type": "code",
   "execution_count": 24,
   "metadata": {},
   "outputs": [
    {
     "name": "stdout",
     "output_type": "stream",
     "text": [
      "6 is not a prime number\n"
     ]
    }
   ],
   "source": [
    "#python program to check whether a number is prime or not\n",
    "def prime_number(num):\n",
    "    if num < 2:\n",
    "        return False\n",
    "    for i in range(2, int(num**0.5) + 1):\n",
    "        if num % i == 0:\n",
    "            return False\n",
    "    return True\n",
    "\n",
    "a = int(input(\"enter a number: \"))\n",
    "if prime_number(a):\n",
    "    print(a, \"is a prime number\")\n",
    "else:\n",
    "    print(a, \"is not a prime number\")"
   ]
  },
  {
   "cell_type": "code",
   "execution_count": 25,
   "metadata": {},
   "outputs": [
    {
     "name": "stdout",
     "output_type": "stream",
     "text": [
      "Fibonacci sequence up to 32 : [0, 1, 1, 2, 3, 5, 8, 13, 21]\n"
     ]
    }
   ],
   "source": [
    "#python code to print nth fibonacci numbers\n",
    "def fibonacci(limit):\n",
    "    sequence = [0, 1]\n",
    "    \n",
    "    while sequence[-1] + sequence[-2] <= limit:\n",
    "        sequence.append(sequence[-1] + sequence[-2])\n",
    "    return sequence\n",
    "\n",
    "limit = int(input(\"Enter the limit for Fibonacci sequence: \"))\n",
    "sequence = fibonacci(limit)\n",
    "print(\"Fibonacci sequence up to\", limit, \":\", sequence)"
   ]
  }
 ],
 "metadata": {
  "kernelspec": {
   "display_name": "Python 3",
   "language": "python",
   "name": "python3"
  },
  "language_info": {
   "codemirror_mode": {
    "name": "ipython",
    "version": 3
   },
   "file_extension": ".py",
   "mimetype": "text/x-python",
   "name": "python",
   "nbconvert_exporter": "python",
   "pygments_lexer": "ipython3",
   "version": "3.12.1"
  }
 },
 "nbformat": 4,
 "nbformat_minor": 2
}
